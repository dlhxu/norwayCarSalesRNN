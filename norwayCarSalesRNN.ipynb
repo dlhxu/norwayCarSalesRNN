{
 "cells": [
  {
   "cell_type": "markdown",
   "metadata": {},
   "source": [
    "# Norway Car Sales project "
   ]
  },
  {
   "cell_type": "markdown",
   "metadata": {
    "pycharm": {
     "name": "#%% md\n"
    }
   },
   "source": [
    "## Train LSTM Recurrent Neural Network using Keras and Tensorflow"
   ]
  },
  {
   "cell_type": "code",
   "execution_count": 1,
   "metadata": {
    "pycharm": {
     "is_executing": false,
     "name": "#%%\n"
    }
   },
   "outputs": [
    {
     "name": "stderr",
     "output_type": "stream",
     "text": [
      "Using TensorFlow backend.\n"
     ]
    }
   ],
   "source": [
    "import tensorflow as tf\n",
    "import pandas\n",
    "import matplotlib.pyplot as plt\n",
    "import numpy\n",
    "import math\n",
    "from keras.models import Sequential\n",
    "from keras.layers import Dense\n",
    "from keras.layers import LSTM\n",
    "from sklearn.preprocessing import MinMaxScaler\n",
    "from sklearn.metrics import mean_squared_error\n",
    "\n",
    "# fix random seed for reproducibility\n",
    "numpy.random.seed(7)"
   ]
  },
  {
   "cell_type": "code",
   "execution_count": 2,
   "metadata": {
    "pycharm": {
     "is_executing": false,
     "name": "#%%\n"
    }
   },
   "outputs": [
    {
     "data": {
      "image/png": "[encoded data removed]",
      "text/plain": [
       "<Figure size 432x288 with 1 Axes>"
      ]
     },
     "metadata": {
      "needs_background": "light"
     },
     "output_type": "display_data"
    }
   ],
   "source": [
    "# load the dataset\n",
    "dataframe = pandas.read_csv('MSCI334_Toyota_Data.csv', usecols=[1],engine='python')\n",
    "plt.plot(dataframe)\n",
    "plt.show()\n",
    "\n",
    "dataset = dataframe.values\n",
    "\n",
    "# floats are more suitable for neural networks than ints\n",
    "dataset = dataset.astype('float32')"
   ]
  },
  {
   "cell_type": "code",
   "execution_count": 3,
   "metadata": {
    "pycharm": {
     "is_executing": false,
     "name": "#%%\n"
    }
   },
   "outputs": [],
   "source": [
    "# normalize the dataset\n",
    "scaler = MinMaxScaler(feature_range=(0, 1))\n",
    "dataset = scaler.fit_transform(dataset)"
   ]
  },
  {
   "cell_type": "code",
   "execution_count": 4,
   "metadata": {
    "pycharm": {
     "is_executing": false,
     "name": "#%%\n"
    }
   },
   "outputs": [
    {
     "name": "stdout",
     "output_type": "stream",
     "text": [
      "80 40\n"
     ]
    }
   ],
   "source": [
    "# split into train and test sets\n",
    "train_size = int(len(dataset) * 0.67)\n",
    "test_size = len(dataset) - train_size\n",
    "train, test = dataset[0:train_size,:], dataset[train_size:len(dataset),:]\n",
    "print(len(train), len(test))\n"
   ]
  },
  {
   "cell_type": "code",
   "execution_count": 5,
   "metadata": {
    "pycharm": {
     "is_executing": false,
     "name": "#%%\n"
    }
   },
   "outputs": [],
   "source": [
    "# convert an array of values into a dataset matrix\n",
    "def create_dataset(dataset, look_back=1):\n",
    "\tdataX, dataY = [], []\n",
    "\tfor i in range(len(dataset)-look_back-1):\n",
    "\t\ta = dataset[i:(i+look_back), 0]\n",
    "\t\tdataX.append(a)\n",
    "\t\tdataY.append(dataset[i + look_back, 0])\n",
    "\treturn numpy.array(dataX), numpy.array(dataY)"
   ]
  },
  {
   "cell_type": "code",
   "execution_count": null,
   "metadata": {},
   "outputs": [],
   "source": []
  },
  {
   "cell_type": "code",
   "execution_count": 6,
   "metadata": {
    "pycharm": {
     "is_executing": false,
     "name": "#%%\n"
    }
   },
   "outputs": [],
   "source": [
    "# reshape train and test datasets into X=t and Y=t+1\n",
    "look_back = 6\n",
    "trainX, trainY = create_dataset(train, look_back)\n",
    "testX, testY = create_dataset(test, look_back)"
   ]
  },
  {
   "cell_type": "code",
   "execution_count": 28,
   "metadata": {},
   "outputs": [
    {
     "data": {
      "text/plain": [
       "(73, 6, 1)"
      ]
     },
     "execution_count": 28,
     "metadata": {},
     "output_type": "execute_result"
    }
   ],
   "source": [
    "numpy.shape(trainX)"
   ]
  },
  {
   "cell_type": "code",
   "execution_count": 7,
   "metadata": {
    "pycharm": {
     "is_executing": false,
     "name": "#%%\n"
    }
   },
   "outputs": [],
   "source": [
    "# Current shape of trainX/testX = [samples, features] = [array of [array of features] = samples]\n",
    "# Reshape input to be [samples, time steps, features] to feed into LSTM\n",
    "# Here, we are reshaping trainX to have 3 dimensions, where the 1st dimension represents # of samples,\n",
    "#   the second dimension is the number of timesteps that comprise the problem (# of values in a given lookback), and the\n",
    "#   the third dimension represents the number of input features being fed into the model\n",
    "trainX = numpy.reshape(trainX, (trainX.shape[0], trainX.shape[1], 1))\n",
    "testX = numpy.reshape(testX, (testX.shape[0], testX.shape[1], 1))"
   ]
  },
  {
   "cell_type": "code",
   "execution_count": 8,
   "metadata": {
    "pycharm": {
     "is_executing": false,
     "name": "#%%\n"
    }
   },
   "outputs": [],
   "source": [
    "# create and fit the LSTM network\n",
    "batch_size = 1\n",
    "model = Sequential()\n",
    "model.add(LSTM(4, batch_input_shape=(batch_size, look_back, 1), stateful=True, return_sequences=True))\n",
    "model.add(LSTM(4, batch_input_shape=(batch_size, look_back, 1), stateful=True, return_sequences=True))\n",
    "model.add(LSTM(4, batch_input_shape=(batch_size, look_back, 1), stateful=True))\n",
    "model.add(Dense(1))"
   ]
  },
  {
   "cell_type": "code",
   "execution_count": 9,
   "metadata": {
    "pycharm": {
     "is_executing": false,
     "name": "#%%\n"
    }
   },
   "outputs": [],
   "source": [
    "model.compile(loss='mean_squared_error', optimizer='adam')"
   ]
  },
  {
   "cell_type": "code",
   "execution_count": 10,
   "metadata": {
    "pycharm": {
     "is_executing": false,
     "name": "#%%\n"
    }
   },
   "outputs": [
    {
     "name": "stdout",
     "output_type": "stream",
     "text": [
      "Epoch 1/1\n",
      " - 2s - loss: 0.0245\n",
      "Epoch 1/1\n",
      " - 1s - loss: 0.0231\n",
      "Epoch 1/1\n",
      " - 1s - loss: 0.0217\n",
      "Epoch 1/1\n",
      " - 1s - loss: 0.0209\n",
      "Epoch 1/1\n",
      " - 1s - loss: 0.0205\n",
      "Epoch 1/1\n",
      " - 1s - loss: 0.0201\n",
      "Epoch 1/1\n",
      " - 2s - loss: 0.0198\n",
      "Epoch 1/1\n",
      " - 1s - loss: 0.0194\n",
      "Epoch 1/1\n",
      " - 1s - loss: 0.0190\n",
      "Epoch 1/1\n",
      " - 1s - loss: 0.0187\n",
      "Epoch 1/1\n",
      " - 1s - loss: 0.0183\n",
      "Epoch 1/1\n",
      " - 1s - loss: 0.0179\n",
      "Epoch 1/1\n",
      " - 2s - loss: 0.0175\n",
      "Epoch 1/1\n",
      " - 1s - loss: 0.0171\n",
      "Epoch 1/1\n",
      " - 1s - loss: 0.0168\n",
      "Epoch 1/1\n",
      " - 1s - loss: 0.0164\n",
      "Epoch 1/1\n",
      " - 1s - loss: 0.0161\n",
      "Epoch 1/1\n",
      " - 1s - loss: 0.0158\n",
      "Epoch 1/1\n",
      " - 1s - loss: 0.0155\n",
      "Epoch 1/1\n",
      " - 1s - loss: 0.0152\n",
      "Epoch 1/1\n",
      " - 1s - loss: 0.0150\n",
      "Epoch 1/1\n",
      " - 2s - loss: 0.0148\n",
      "Epoch 1/1\n",
      " - 2s - loss: 0.0147\n",
      "Epoch 1/1\n",
      " - 1s - loss: 0.0145\n",
      "Epoch 1/1\n",
      " - 1s - loss: 0.0144\n",
      "Epoch 1/1\n",
      " - 1s - loss: 0.0143\n",
      "Epoch 1/1\n",
      " - 1s - loss: 0.0142\n",
      "Epoch 1/1\n",
      " - 1s - loss: 0.0141\n",
      "Epoch 1/1\n",
      " - 1s - loss: 0.0140\n",
      "Epoch 1/1\n",
      " - 1s - loss: 0.0139\n",
      "Epoch 1/1\n",
      " - 1s - loss: 0.0138\n",
      "Epoch 1/1\n",
      " - 1s - loss: 0.0137\n",
      "Epoch 1/1\n",
      " - 1s - loss: 0.0136\n",
      "Epoch 1/1\n",
      " - 1s - loss: 0.0135\n",
      "Epoch 1/1\n",
      " - 1s - loss: 0.0134\n",
      "Epoch 1/1\n",
      " - 1s - loss: 0.0133\n",
      "Epoch 1/1\n",
      " - 1s - loss: 0.0133\n",
      "Epoch 1/1\n",
      " - 1s - loss: 0.0132\n",
      "Epoch 1/1\n",
      " - 1s - loss: 0.0131\n",
      "Epoch 1/1\n",
      " - 1s - loss: 0.0130\n",
      "Epoch 1/1\n",
      " - 1s - loss: 0.0130\n",
      "Epoch 1/1\n",
      " - 1s - loss: 0.0129\n",
      "Epoch 1/1\n",
      " - 1s - loss: 0.0128\n",
      "Epoch 1/1\n",
      " - 1s - loss: 0.0128\n",
      "Epoch 1/1\n",
      " - 1s - loss: 0.0127\n",
      "Epoch 1/1\n",
      " - 1s - loss: 0.0126\n",
      "Epoch 1/1\n",
      " - 1s - loss: 0.0126\n",
      "Epoch 1/1\n",
      " - 1s - loss: 0.0125\n",
      "Epoch 1/1\n",
      " - 1s - loss: 0.0125\n",
      "Epoch 1/1\n",
      " - 1s - loss: 0.0124\n",
      "Epoch 1/1\n",
      " - 1s - loss: 0.0123\n",
      "Epoch 1/1\n",
      " - 1s - loss: 0.0123\n",
      "Epoch 1/1\n",
      " - 1s - loss: 0.0122\n",
      "Epoch 1/1\n",
      " - 1s - loss: 0.0122\n",
      "Epoch 1/1\n",
      " - 1s - loss: 0.0121\n",
      "Epoch 1/1\n",
      " - 1s - loss: 0.0121\n",
      "Epoch 1/1\n",
      " - 1s - loss: 0.0120\n",
      "Epoch 1/1\n",
      " - 1s - loss: 0.0120\n",
      "Epoch 1/1\n",
      " - 1s - loss: 0.0120\n",
      "Epoch 1/1\n",
      " - 1s - loss: 0.0119\n",
      "Epoch 1/1\n",
      " - 1s - loss: 0.0119\n",
      "Epoch 1/1\n",
      " - 1s - loss: 0.0118\n",
      "Epoch 1/1\n",
      " - 1s - loss: 0.0118\n",
      "Epoch 1/1\n",
      " - 1s - loss: 0.0118\n",
      "Epoch 1/1\n",
      " - 1s - loss: 0.0117\n",
      "Epoch 1/1\n",
      " - 1s - loss: 0.0117\n",
      "Epoch 1/1\n",
      " - 1s - loss: 0.0117\n",
      "Epoch 1/1\n",
      " - 1s - loss: 0.0116\n",
      "Epoch 1/1\n",
      " - 1s - loss: 0.0116\n",
      "Epoch 1/1\n",
      " - 1s - loss: 0.0116\n",
      "Epoch 1/1\n",
      " - 1s - loss: 0.0116\n",
      "Epoch 1/1\n",
      " - 1s - loss: 0.0115\n",
      "Epoch 1/1\n",
      " - 1s - loss: 0.0115\n",
      "Epoch 1/1\n",
      " - 1s - loss: 0.0115\n",
      "Epoch 1/1\n",
      " - 1s - loss: 0.0115\n",
      "Epoch 1/1\n",
      " - 1s - loss: 0.0114\n",
      "Epoch 1/1\n",
      " - 1s - loss: 0.0114\n",
      "Epoch 1/1\n",
      " - 1s - loss: 0.0114\n",
      "Epoch 1/1\n",
      " - 1s - loss: 0.0114\n",
      "Epoch 1/1\n",
      " - 1s - loss: 0.0113\n",
      "Epoch 1/1\n",
      " - 1s - loss: 0.0113\n",
      "Epoch 1/1\n",
      " - 1s - loss: 0.0113\n",
      "Epoch 1/1\n",
      " - 1s - loss: 0.0113\n",
      "Epoch 1/1\n",
      " - 1s - loss: 0.0113\n",
      "Epoch 1/1\n",
      " - 1s - loss: 0.0112\n",
      "Epoch 1/1\n",
      " - 1s - loss: 0.0112\n",
      "Epoch 1/1\n",
      " - 1s - loss: 0.0112\n",
      "Epoch 1/1\n",
      " - 1s - loss: 0.0112\n",
      "Epoch 1/1\n",
      " - 1s - loss: 0.0111\n",
      "Epoch 1/1\n",
      " - 1s - loss: 0.0111\n",
      "Epoch 1/1\n",
      " - 1s - loss: 0.0111\n",
      "Epoch 1/1\n",
      " - 1s - loss: 0.0111\n",
      "Epoch 1/1\n",
      " - 1s - loss: 0.0111\n",
      "Epoch 1/1\n",
      " - 1s - loss: 0.0110\n",
      "Epoch 1/1\n",
      " - 1s - loss: 0.0110\n",
      "Epoch 1/1\n",
      " - 1s - loss: 0.0110\n",
      "Epoch 1/1\n",
      " - 1s - loss: 0.0110\n",
      "Epoch 1/1\n",
      " - 1s - loss: 0.0110\n",
      "Epoch 1/1\n",
      " - 1s - loss: 0.0109\n",
      "Epoch 1/1\n",
      " - 1s - loss: 0.0109\n",
      "Epoch 1/1\n",
      " - 1s - loss: 0.0109\n",
      "Epoch 1/1\n",
      " - 1s - loss: 0.0109\n",
      "Epoch 1/1\n",
      " - 1s - loss: 0.0109\n",
      "Epoch 1/1\n",
      " - 1s - loss: 0.0108\n",
      "Epoch 1/1\n",
      " - 1s - loss: 0.0108\n",
      "Epoch 1/1\n",
      " - 1s - loss: 0.0108\n",
      "Epoch 1/1\n",
      " - 1s - loss: 0.0108\n",
      "Epoch 1/1\n",
      " - 1s - loss: 0.0108\n",
      "Epoch 1/1\n",
      " - 1s - loss: 0.0107\n",
      "Epoch 1/1\n",
      " - 1s - loss: 0.0107\n",
      "Epoch 1/1\n",
      " - 1s - loss: 0.0107\n",
      "Epoch 1/1\n",
      " - 1s - loss: 0.0107\n",
      "Epoch 1/1\n",
      " - 1s - loss: 0.0107\n",
      "Epoch 1/1\n",
      " - 1s - loss: 0.0106\n",
      "Epoch 1/1\n",
      " - 1s - loss: 0.0106\n",
      "Epoch 1/1\n",
      " - 1s - loss: 0.0106\n",
      "Epoch 1/1\n",
      " - 1s - loss: 0.0106\n",
      "Epoch 1/1\n",
      " - 1s - loss: 0.0106\n",
      "Epoch 1/1\n",
      " - 1s - loss: 0.0105\n",
      "Epoch 1/1\n",
      " - 1s - loss: 0.0105\n",
      "Epoch 1/1\n",
      " - 1s - loss: 0.0105\n",
      "Epoch 1/1\n",
      " - 1s - loss: 0.0105\n",
      "Epoch 1/1\n",
      " - 1s - loss: 0.0104\n",
      "Epoch 1/1\n",
      " - 1s - loss: 0.0104\n",
      "Epoch 1/1\n",
      " - 1s - loss: 0.0104\n",
      "Epoch 1/1\n",
      " - 1s - loss: 0.0103\n",
      "Epoch 1/1\n",
      " - 1s - loss: 0.0103\n",
      "Epoch 1/1\n",
      " - 1s - loss: 0.0103\n",
      "Epoch 1/1\n",
      " - 1s - loss: 0.0103\n",
      "Epoch 1/1\n",
      " - 1s - loss: 0.0102\n",
      "Epoch 1/1\n",
      " - 1s - loss: 0.0102\n",
      "Epoch 1/1\n",
      " - 1s - loss: 0.0102\n",
      "Epoch 1/1\n",
      " - 1s - loss: 0.0101\n",
      "Epoch 1/1\n",
      " - 1s - loss: 0.0101\n",
      "Epoch 1/1\n",
      " - 1s - loss: 0.0101\n",
      "Epoch 1/1\n",
      " - 1s - loss: 0.0100\n",
      "Epoch 1/1\n",
      " - 1s - loss: 0.0100\n",
      "Epoch 1/1\n",
      " - 1s - loss: 0.0100\n",
      "Epoch 1/1\n",
      " - 1s - loss: 0.0099\n",
      "Epoch 1/1\n",
      " - 1s - loss: 0.0099\n",
      "Epoch 1/1\n",
      " - 1s - loss: 0.0099\n",
      "Epoch 1/1\n",
      " - 1s - loss: 0.0098\n",
      "Epoch 1/1\n",
      " - 1s - loss: 0.0098\n",
      "Epoch 1/1\n",
      " - 1s - loss: 0.0098\n",
      "Epoch 1/1\n",
      " - 1s - loss: 0.0098\n",
      "Epoch 1/1\n",
      " - 1s - loss: 0.0097\n",
      "Epoch 1/1\n",
      " - 1s - loss: 0.0097\n",
      "Epoch 1/1\n",
      " - 1s - loss: 0.0097\n",
      "Epoch 1/1\n",
      " - 1s - loss: 0.0097\n",
      "Epoch 1/1\n",
      " - 1s - loss: 0.0097\n",
      "Epoch 1/1\n",
      " - 1s - loss: 0.0097\n",
      "Epoch 1/1\n",
      " - 1s - loss: 0.0096\n",
      "Epoch 1/1\n",
      " - 0s - loss: 0.0096\n",
      "Epoch 1/1\n",
      " - 1s - loss: 0.0096\n",
      "Epoch 1/1\n",
      " - 1s - loss: 0.0096\n",
      "Epoch 1/1\n",
      " - 1s - loss: 0.0096\n",
      "Epoch 1/1\n",
      " - 1s - loss: 0.0096\n",
      "Epoch 1/1\n",
      " - 1s - loss: 0.0096\n",
      "Epoch 1/1\n",
      " - 1s - loss: 0.0096\n",
      "Epoch 1/1\n",
      " - 1s - loss: 0.0096\n",
      "Epoch 1/1\n",
      " - 1s - loss: 0.0096\n",
      "Epoch 1/1\n",
      " - 1s - loss: 0.0096\n",
      "Epoch 1/1\n",
      " - 1s - loss: 0.0096\n",
      "Epoch 1/1\n",
      " - 1s - loss: 0.0096\n",
      "Epoch 1/1\n",
      " - 1s - loss: 0.0096\n",
      "Epoch 1/1\n",
      " - 1s - loss: 0.0096\n",
      "Epoch 1/1\n",
      " - 1s - loss: 0.0096\n",
      "Epoch 1/1\n",
      " - 1s - loss: 0.0096\n",
      "Epoch 1/1\n",
      " - 1s - loss: 0.0096\n",
      "Epoch 1/1\n",
      " - 1s - loss: 0.0096\n",
      "Epoch 1/1\n",
      " - 1s - loss: 0.0096\n",
      "Epoch 1/1\n",
      " - 1s - loss: 0.0096\n",
      "Epoch 1/1\n",
      " - 1s - loss: 0.0096\n",
      "Epoch 1/1\n",
      " - 1s - loss: 0.0096\n",
      "Epoch 1/1\n",
      " - 1s - loss: 0.0096\n",
      "Epoch 1/1\n",
      " - 1s - loss: 0.0096\n",
      "Epoch 1/1\n",
      " - 1s - loss: 0.0096\n",
      "Epoch 1/1\n",
      " - 1s - loss: 0.0096\n",
      "Epoch 1/1\n",
      " - 1s - loss: 0.0096\n",
      "Epoch 1/1\n",
      " - 1s - loss: 0.0096\n",
      "Epoch 1/1\n",
      " - 1s - loss: 0.0096\n",
      "Epoch 1/1\n",
      " - 1s - loss: 0.0096\n",
      "Epoch 1/1\n",
      " - 1s - loss: 0.0096\n",
      "Epoch 1/1\n",
      " - 1s - loss: 0.0096\n",
      "Epoch 1/1\n",
      " - 1s - loss: 0.0096\n",
      "Epoch 1/1\n",
      " - 1s - loss: 0.0096\n",
      "Epoch 1/1\n",
      " - 1s - loss: 0.0096\n",
      "Epoch 1/1\n",
      " - 1s - loss: 0.0096\n",
      "Epoch 1/1\n",
      " - 1s - loss: 0.0096\n",
      "Epoch 1/1\n",
      " - 1s - loss: 0.0096\n",
      "Epoch 1/1\n",
      " - 1s - loss: 0.0096\n",
      "Epoch 1/1\n",
      " - 1s - loss: 0.0096\n",
      "Epoch 1/1\n",
      " - 1s - loss: 0.0096\n",
      "Epoch 1/1\n",
      " - 1s - loss: 0.0096\n",
      "Epoch 1/1\n",
      " - 1s - loss: 0.0096\n",
      "Epoch 1/1\n",
      " - 1s - loss: 0.0096\n",
      "Epoch 1/1\n",
      " - 1s - loss: 0.0096\n",
      "Epoch 1/1\n",
      " - 1s - loss: 0.0096\n",
      "Epoch 1/1\n",
      " - 1s - loss: 0.0096\n",
      "Epoch 1/1\n",
      " - 1s - loss: 0.0096\n",
      "Epoch 1/1\n",
      " - 1s - loss: 0.0096\n",
      "Epoch 1/1\n",
      " - 1s - loss: 0.0096\n",
      "Epoch 1/1\n",
      " - 1s - loss: 0.0096\n",
      "Epoch 1/1\n",
      " - 1s - loss: 0.0096\n",
      "Epoch 1/1\n",
      " - 1s - loss: 0.0096\n",
      "Epoch 1/1\n",
      " - 1s - loss: 0.0096\n",
      "Epoch 1/1\n",
      " - 1s - loss: 0.0096\n",
      "Epoch 1/1\n",
      " - 1s - loss: 0.0096\n",
      "Epoch 1/1\n",
      " - 1s - loss: 0.0096\n",
      "Epoch 1/1\n",
      " - 1s - loss: 0.0096\n",
      "Epoch 1/1\n",
      " - 1s - loss: 0.0095\n",
      "Epoch 1/1\n",
      " - 1s - loss: 0.0096\n",
      "Epoch 1/1\n",
      " - 1s - loss: 0.0096\n",
      "Epoch 1/1\n",
      " - 1s - loss: 0.0097\n",
      "Epoch 1/1\n",
      " - 1s - loss: 0.0096\n",
      "Epoch 1/1\n",
      " - 1s - loss: 0.0096\n",
      "Epoch 1/1\n",
      " - 1s - loss: 0.0095\n",
      "Epoch 1/1\n",
      " - 1s - loss: 0.0097\n",
      "Epoch 1/1\n",
      " - 1s - loss: 0.0099\n",
      "Epoch 1/1\n",
      " - 1s - loss: 0.0099\n",
      "Epoch 1/1\n",
      " - 1s - loss: 0.0097\n",
      "Epoch 1/1\n",
      " - 1s - loss: 0.0097\n",
      "Epoch 1/1\n",
      " - 1s - loss: 0.0096\n",
      "Epoch 1/1\n",
      " - 1s - loss: 0.0101\n",
      "Epoch 1/1\n",
      " - 1s - loss: 0.0102\n",
      "Epoch 1/1\n",
      " - 1s - loss: 0.0098\n",
      "Epoch 1/1\n",
      " - 1s - loss: 0.0097\n",
      "Epoch 1/1\n",
      " - 1s - loss: 0.0095\n",
      "Epoch 1/1\n",
      " - 1s - loss: 0.0096\n",
      "Epoch 1/1\n",
      " - 1s - loss: 0.0100\n",
      "Epoch 1/1\n",
      " - 1s - loss: 0.0099\n",
      "Epoch 1/1\n",
      " - 1s - loss: 0.0097\n",
      "Epoch 1/1\n",
      " - 1s - loss: 0.0096\n",
      "Epoch 1/1\n",
      " - 1s - loss: 0.0095\n",
      "Epoch 1/1\n",
      " - 1s - loss: 0.0097\n",
      "Epoch 1/1\n",
      " - 1s - loss: 0.0098\n",
      "Epoch 1/1\n",
      " - 1s - loss: 0.0097\n",
      "Epoch 1/1\n",
      " - 1s - loss: 0.0096\n",
      "Epoch 1/1\n",
      " - 1s - loss: 0.0095\n",
      "Epoch 1/1\n",
      " - 1s - loss: 0.0095\n",
      "Epoch 1/1\n",
      " - 1s - loss: 0.0097\n",
      "Epoch 1/1\n",
      " - 1s - loss: 0.0098\n",
      "Epoch 1/1\n",
      " - 1s - loss: 0.0097\n",
      "Epoch 1/1\n",
      " - 1s - loss: 0.0096\n",
      "Epoch 1/1\n",
      " - 1s - loss: 0.0095\n",
      "Epoch 1/1\n",
      " - 1s - loss: 0.0096\n",
      "Epoch 1/1\n",
      " - 1s - loss: 0.0098\n",
      "Epoch 1/1\n",
      " - 1s - loss: 0.0097\n",
      "Epoch 1/1\n",
      " - 1s - loss: 0.0096\n",
      "Epoch 1/1\n",
      " - 1s - loss: 0.0096\n",
      "Epoch 1/1\n",
      " - 1s - loss: 0.0095\n",
      "Epoch 1/1\n",
      " - 1s - loss: 0.0097\n",
      "Epoch 1/1\n",
      " - 1s - loss: 0.0098\n",
      "Epoch 1/1\n",
      " - 1s - loss: 0.0097\n",
      "Epoch 1/1\n",
      " - 1s - loss: 0.0096\n",
      "Epoch 1/1\n",
      " - 1s - loss: 0.0095\n",
      "Epoch 1/1\n",
      " - 1s - loss: 0.0096\n",
      "Epoch 1/1\n",
      " - 1s - loss: 0.0097\n",
      "Epoch 1/1\n",
      " - 1s - loss: 0.0098\n",
      "Epoch 1/1\n",
      " - 1s - loss: 0.0097\n",
      "Epoch 1/1\n",
      " - 1s - loss: 0.0096\n",
      "Epoch 1/1\n",
      " - 1s - loss: 0.0095\n",
      "Epoch 1/1\n",
      " - 1s - loss: 0.0096\n",
      "Epoch 1/1\n",
      " - 1s - loss: 0.0097\n",
      "Epoch 1/1\n"
     ]
    },
    {
     "name": "stdout",
     "output_type": "stream",
     "text": [
      " - 1s - loss: 0.0097\n",
      "Epoch 1/1\n",
      " - 1s - loss: 0.0096\n",
      "Epoch 1/1\n",
      " - 1s - loss: 0.0096\n",
      "Epoch 1/1\n",
      " - 1s - loss: 0.0095\n",
      "Epoch 1/1\n",
      " - 1s - loss: 0.0096\n",
      "Epoch 1/1\n",
      " - 1s - loss: 0.0097\n",
      "Epoch 1/1\n",
      " - 1s - loss: 0.0097\n",
      "Epoch 1/1\n",
      " - 1s - loss: 0.0096\n",
      "Epoch 1/1\n",
      " - 1s - loss: 0.0096\n",
      "Epoch 1/1\n",
      " - 1s - loss: 0.0096\n",
      "Epoch 1/1\n",
      " - 1s - loss: 0.0097\n",
      "Epoch 1/1\n",
      " - 1s - loss: 0.0097\n",
      "Epoch 1/1\n",
      " - 1s - loss: 0.0097\n",
      "Epoch 1/1\n",
      " - 1s - loss: 0.0096\n",
      "Epoch 1/1\n",
      " - 1s - loss: 0.0096\n",
      "Epoch 1/1\n",
      " - 1s - loss: 0.0096\n",
      "Epoch 1/1\n",
      " - 1s - loss: 0.0097\n",
      "Epoch 1/1\n",
      " - 1s - loss: 0.0097\n",
      "Epoch 1/1\n",
      " - 1s - loss: 0.0097\n",
      "Epoch 1/1\n",
      " - 1s - loss: 0.0096\n",
      "Epoch 1/1\n",
      " - 1s - loss: 0.0096\n",
      "Epoch 1/1\n",
      " - 1s - loss: 0.0096\n",
      "Epoch 1/1\n",
      " - 1s - loss: 0.0097\n",
      "Epoch 1/1\n",
      " - 1s - loss: 0.0097\n",
      "Epoch 1/1\n",
      " - 1s - loss: 0.0096\n",
      "Epoch 1/1\n",
      " - 1s - loss: 0.0096\n",
      "Epoch 1/1\n",
      " - 1s - loss: 0.0096\n",
      "Epoch 1/1\n",
      " - 1s - loss: 0.0096\n",
      "Epoch 1/1\n",
      " - 1s - loss: 0.0097\n",
      "Epoch 1/1\n",
      " - 1s - loss: 0.0097\n",
      "Epoch 1/1\n",
      " - 1s - loss: 0.0096\n",
      "Epoch 1/1\n",
      " - 1s - loss: 0.0096\n",
      "Epoch 1/1\n",
      " - 1s - loss: 0.0096\n",
      "Epoch 1/1\n",
      " - 1s - loss: 0.0096\n",
      "Epoch 1/1\n",
      " - 1s - loss: 0.0096\n",
      "Epoch 1/1\n",
      " - 1s - loss: 0.0097\n",
      "Epoch 1/1\n",
      " - 1s - loss: 0.0096\n",
      "Epoch 1/1\n",
      " - 1s - loss: 0.0096\n",
      "Epoch 1/1\n",
      " - 1s - loss: 0.0096\n",
      "Epoch 1/1\n",
      " - 1s - loss: 0.0096\n",
      "Epoch 1/1\n",
      " - 1s - loss: 0.0096\n",
      "Epoch 1/1\n",
      " - 1s - loss: 0.0096\n",
      "Epoch 1/1\n",
      " - 1s - loss: 0.0096\n",
      "Epoch 1/1\n",
      " - 1s - loss: 0.0096\n",
      "Epoch 1/1\n",
      " - 1s - loss: 0.0096\n",
      "Epoch 1/1\n",
      " - 1s - loss: 0.0096\n",
      "Epoch 1/1\n",
      " - 1s - loss: 0.0096\n",
      "Epoch 1/1\n",
      " - 1s - loss: 0.0096\n",
      "Epoch 1/1\n",
      " - 1s - loss: 0.0096\n",
      "Epoch 1/1\n",
      " - 1s - loss: 0.0096\n",
      "Epoch 1/1\n",
      " - 1s - loss: 0.0096\n",
      "Epoch 1/1\n",
      " - 1s - loss: 0.0096\n",
      "Epoch 1/1\n",
      " - 1s - loss: 0.0096\n",
      "Epoch 1/1\n",
      " - 1s - loss: 0.0096\n",
      "Epoch 1/1\n",
      " - 1s - loss: 0.0096\n",
      "Epoch 1/1\n",
      " - 1s - loss: 0.0096\n",
      "Epoch 1/1\n",
      " - 1s - loss: 0.0096\n",
      "Epoch 1/1\n",
      " - 1s - loss: 0.0096\n",
      "Epoch 1/1\n",
      " - 1s - loss: 0.0096\n",
      "Epoch 1/1\n",
      " - 1s - loss: 0.0096\n",
      "Epoch 1/1\n",
      " - 1s - loss: 0.0096\n",
      "Epoch 1/1\n",
      " - 0s - loss: 0.0096\n",
      "Epoch 1/1\n",
      " - 1s - loss: 0.0096\n",
      "Epoch 1/1\n",
      " - 1s - loss: 0.0096\n",
      "Epoch 1/1\n",
      " - 1s - loss: 0.0096\n",
      "Epoch 1/1\n",
      " - 1s - loss: 0.0096\n",
      "Epoch 1/1\n",
      " - 1s - loss: 0.0096\n",
      "Epoch 1/1\n",
      " - 1s - loss: 0.0096\n",
      "Epoch 1/1\n",
      " - 1s - loss: 0.0096\n",
      "Epoch 1/1\n",
      " - 1s - loss: 0.0096\n",
      "Epoch 1/1\n",
      " - 1s - loss: 0.0096\n",
      "Epoch 1/1\n",
      " - 1s - loss: 0.0096\n",
      "Epoch 1/1\n",
      " - 1s - loss: 0.0096\n",
      "Epoch 1/1\n",
      " - 1s - loss: 0.0096\n",
      "Epoch 1/1\n",
      " - 1s - loss: 0.0096\n",
      "Epoch 1/1\n",
      " - 1s - loss: 0.0096\n",
      "Epoch 1/1\n",
      " - 1s - loss: 0.0096\n",
      "Epoch 1/1\n",
      " - 1s - loss: 0.0096\n",
      "Epoch 1/1\n",
      " - 1s - loss: 0.0096\n",
      "Epoch 1/1\n",
      " - 1s - loss: 0.0096\n",
      "Epoch 1/1\n",
      " - 1s - loss: 0.0096\n",
      "Epoch 1/1\n",
      " - 1s - loss: 0.0096\n",
      "Epoch 1/1\n",
      " - 1s - loss: 0.0095\n",
      "Epoch 1/1\n",
      " - 1s - loss: 0.0095\n",
      "Epoch 1/1\n",
      " - 1s - loss: 0.0095\n",
      "Epoch 1/1\n",
      " - 1s - loss: 0.0095\n",
      "Epoch 1/1\n",
      " - 1s - loss: 0.0095\n",
      "Epoch 1/1\n",
      " - 1s - loss: 0.0095\n",
      "Epoch 1/1\n",
      " - 1s - loss: 0.0095\n",
      "Epoch 1/1\n",
      " - 1s - loss: 0.0095\n",
      "Epoch 1/1\n",
      " - 1s - loss: 0.0095\n",
      "Epoch 1/1\n",
      " - 1s - loss: 0.0095\n",
      "Epoch 1/1\n",
      " - 1s - loss: 0.0095\n",
      "Epoch 1/1\n",
      " - 1s - loss: 0.0095\n",
      "Epoch 1/1\n",
      " - 1s - loss: 0.0095\n",
      "Epoch 1/1\n",
      " - 1s - loss: 0.0095\n",
      "Epoch 1/1\n",
      " - 1s - loss: 0.0095\n",
      "Epoch 1/1\n",
      " - 1s - loss: 0.0095\n",
      "Epoch 1/1\n",
      " - 1s - loss: 0.0095\n",
      "Epoch 1/1\n",
      " - 1s - loss: 0.0095\n",
      "Epoch 1/1\n",
      " - 1s - loss: 0.0095\n",
      "Epoch 1/1\n",
      " - 1s - loss: 0.0095\n",
      "Epoch 1/1\n",
      " - 1s - loss: 0.0095\n",
      "Epoch 1/1\n",
      " - 1s - loss: 0.0095\n",
      "Epoch 1/1\n",
      " - 1s - loss: 0.0095\n",
      "Epoch 1/1\n",
      " - 1s - loss: 0.0095\n",
      "Epoch 1/1\n",
      " - 1s - loss: 0.0095\n",
      "Epoch 1/1\n",
      " - 1s - loss: 0.0095\n",
      "Epoch 1/1\n",
      " - 1s - loss: 0.0095\n",
      "Epoch 1/1\n",
      " - 1s - loss: 0.0095\n",
      "Epoch 1/1\n",
      " - 1s - loss: 0.0095\n",
      "Epoch 1/1\n",
      " - 1s - loss: 0.0095\n",
      "Epoch 1/1\n",
      " - 1s - loss: 0.0095\n",
      "Epoch 1/1\n",
      " - 1s - loss: 0.0095\n",
      "Epoch 1/1\n",
      " - 1s - loss: 0.0095\n",
      "Epoch 1/1\n",
      " - 1s - loss: 0.0095\n",
      "Epoch 1/1\n",
      " - 1s - loss: 0.0095\n",
      "Epoch 1/1\n",
      " - 1s - loss: 0.0095\n",
      "Epoch 1/1\n",
      " - 1s - loss: 0.0095\n",
      "Epoch 1/1\n",
      " - 1s - loss: 0.0095\n",
      "Epoch 1/1\n",
      " - 1s - loss: 0.0095\n",
      "Epoch 1/1\n",
      " - 1s - loss: 0.0095\n",
      "Epoch 1/1\n",
      " - 1s - loss: 0.0095\n",
      "Epoch 1/1\n",
      " - 1s - loss: 0.0095\n",
      "Epoch 1/1\n",
      " - 1s - loss: 0.0095\n",
      "Epoch 1/1\n",
      " - 1s - loss: 0.0096\n",
      "Epoch 1/1\n",
      " - 1s - loss: 0.0096\n",
      "Epoch 1/1\n",
      " - 1s - loss: 0.0097\n",
      "Epoch 1/1\n",
      " - 1s - loss: 0.0097\n",
      "Epoch 1/1\n",
      " - 1s - loss: 0.0095\n",
      "Epoch 1/1\n",
      " - 1s - loss: 0.0095\n",
      "Epoch 1/1\n",
      " - 1s - loss: 0.0095\n",
      "Epoch 1/1\n",
      " - 1s - loss: 0.0095\n",
      "Epoch 1/1\n",
      " - 1s - loss: 0.0095\n",
      "Epoch 1/1\n",
      " - 1s - loss: 0.0095\n",
      "Epoch 1/1\n",
      " - 1s - loss: 0.0095\n"
     ]
    }
   ],
   "source": [
    "# outer loop of epochs to leverage LSTM statefulness\n",
    "num_epochs = 400\n",
    "for i in range(num_epochs):\n",
    "\tmodel.fit(trainX, trainY, epochs=1, batch_size=batch_size, verbose=2, shuffle=False)\n",
    "\tmodel.reset_states()\n"
   ]
  },
  {
   "cell_type": "code",
   "execution_count": 11,
   "metadata": {
    "pycharm": {
     "is_executing": false,
     "name": "#%%\n"
    }
   },
   "outputs": [],
   "source": [
    "# make predictions\n",
    "trainPredict = model.predict(trainX, batch_size=batch_size)\n",
    "testPredict = model.predict(testX, batch_size=batch_size)\n",
    "\n"
   ]
  },
  {
   "cell_type": "code",
   "execution_count": 12,
   "metadata": {
    "pycharm": {
     "is_executing": false,
     "name": "#%%\n"
    }
   },
   "outputs": [],
   "source": [
    "# invert predictions\n",
    "trainPredict = scaler.inverse_transform(trainPredict)\n",
    "trainY = scaler.inverse_transform([trainY])\n",
    "testPredict = scaler.inverse_transform(testPredict)\n",
    "testY = scaler.inverse_transform([testY])\n",
    "\n"
   ]
  },
  {
   "cell_type": "code",
   "execution_count": 27,
   "metadata": {
    "pycharm": {
     "is_executing": false,
     "name": "#%%\n"
    }
   },
   "outputs": [
    {
     "name": "stdout",
     "output_type": "stream",
     "text": [
      "Training Set Error: \n",
      "Mean Squared Error: 42840.58 MSE\n",
      "Root Mean Squared Error: 206.98 RMSE\n",
      "Mean Absolute Error: 160.56 MAE\n",
      "Mean Absolute Percentage Error: 17.84 % MAPE\n",
      "Test Set Error: \n",
      "Mean Squared Error: 94132.61 MSE\n",
      "Root Mean Squared Error: 306.81 RMSE\n",
      "Mean Absolute Error: 235.91 MAE\n",
      "Mean Absolute Percentage Error: 18.67 % MAPE\n"
     ]
    }
   ],
   "source": [
    "# calculate root mean squared error\n",
    "# trainScore = math.sqrt(mean_squared_error(trainY[0], trainPredict[:,0]))\n",
    "# print('Train Score: %.2f RMSE' % (trainScore))\n",
    "# testScore = math.sqrt(mean_squared_error(testY[0], testPredict[:,0]))\n",
    "# print('Test Score: %.2f RMSE' % (testScore))\n",
    "\n",
    "print('Training Set Error: ')\n",
    "\n",
    "# calculate mean squared error\n",
    "trainMse = mean_squared_error(trainY[0], trainPredict[:,0])\n",
    "print('Mean Squared Error: %.2f MSE' % (trainMse))\n",
    "\n",
    "# calculate root mean squared error\n",
    "trainRmse = math.sqrt(trainMse)\n",
    "print('Root Mean Squared Error: %.2f RMSE' % (trainRmse))\n",
    "\n",
    "# calculate mean absolute error\n",
    "trainMae = mean_absolute_error(trainY[0], trainPredict[:,0])\n",
    "print('Mean Absolute Error: %.2f MAE' % (trainMae))\n",
    "\n",
    "# calculate mean absolute percentage error\n",
    "trainMape = numpy.mean(numpy.abs((trainY[0] - trainPredict[:,0]) / trainY[0])) * 100\n",
    "print('Mean Absolute Percentage Error: %.2f %% MAPE' % (trainMape))\n",
    "\n",
    "print('Test Set Error: ')\n",
    "\n",
    "# calculate mean squared error\n",
    "testMse = mean_squared_error(testY[0], testPredict[:,0])\n",
    "print('Mean Squared Error: %.2f MSE' % (testMse))\n",
    "\n",
    "# calculate root mean squared error\n",
    "testRmse = math.sqrt(testMse)\n",
    "print('Root Mean Squared Error: %.2f RMSE' % (testRmse))\n",
    "\n",
    "# calculate mean absolute error\n",
    "testMae = mean_absolute_error(testY[0], testPredict[:,0])\n",
    "print('Mean Absolute Error: %.2f MAE' % (testMae))\n",
    "\n",
    "# calculate mean absolute percentage error\n",
    "testMape = numpy.mean(numpy.abs((testY[0] - testPredict[:,0]) / testY[0])) * 100\n",
    "print('Mean Absolute Percentage Error: %.2f %% MAPE' % (testMape))\n"
   ]
  },
  {
   "cell_type": "code",
   "execution_count": 14,
   "metadata": {
    "pycharm": {
     "is_executing": false,
     "name": "#%%\n"
    }
   },
   "outputs": [
    {
     "data": {
      "image/png": "[encoded data removed]",
      "text/plain": [
       "<Figure size 432x288 with 1 Axes>"
      ]
     },
     "metadata": {
      "needs_background": "light"
     },
     "output_type": "display_data"
    }
   ],
   "source": [
    "# shift train predictions for plotting\n",
    "trainPredictPlot = numpy.empty_like(dataset)\n",
    "trainPredictPlot[:, :] = numpy.nan\n",
    "trainPredictPlot[look_back:len(trainPredict)+look_back, :] = trainPredict\n",
    "# shift test predictions for plotting\n",
    "testPredictPlot = numpy.empty_like(dataset)\n",
    "testPredictPlot[:, :] = numpy.nan\n",
    "testPredictPlot[len(trainPredict)+(look_back*2)+1:len(dataset)-1, :] = testPredict\n",
    "# plot baseline and predictions\n",
    "plt.plot(scaler.inverse_transform(dataset))\n",
    "plt.plot(trainPredictPlot)\n",
    "plt.plot(testPredictPlot)\n",
    "plt.show()\n",
    "\n",
    "\n"
   ]
  },
  {
   "cell_type": "markdown",
   "metadata": {},
   "source": [
    "## Save the Keras + Tensorflow RNN"
   ]
  },
  {
   "cell_type": "code",
   "execution_count": 15,
   "metadata": {},
   "outputs": [],
   "source": [
    "# save model and architecture to single file\n",
    "model.save(\"norwayCarRNN.h5\")"
   ]
  },
  {
   "cell_type": "markdown",
   "metadata": {},
   "source": [
    "## Forecast for 2017"
   ]
  },
  {
   "cell_type": "code",
   "execution_count": 16,
   "metadata": {
    "pycharm": {
     "name": "#%%\n"
    }
   },
   "outputs": [],
   "source": [
    "# load the actual 2017 data\n",
    "dataframe_2017 = pandas.read_csv('MSCI334_2017_Toyota_Sales.csv', usecols=[1],engine='python')\n",
    "dataset_2017 = dataframe_2017.values\n",
    "dataset_2017 = dataset_2017.astype('float32')\n",
    "\n",
    "# normalize the dataset\n",
    "dataset_2017 = scaler.fit_transform(dataset_2017)"
   ]
  },
  {
   "cell_type": "markdown",
   "metadata": {},
   "source": [
    "## Create the prediction and validation datasets\n",
    "\n",
    "forecasted sales for 2017 will be predicted by using the prediction dataset, and error will be measured using the validation dataset\n"
   ]
  },
  {
   "cell_type": "code",
   "execution_count": 17,
   "metadata": {},
   "outputs": [],
   "source": [
    "# Set up the datasets such that the RNN will predict the next month of sales based on previous 6 months\n",
    "look_back = 6\n",
    "inputs, targets = create_dataset(dataset_2017, look_back)"
   ]
  },
  {
   "cell_type": "code",
   "execution_count": 18,
   "metadata": {},
   "outputs": [],
   "source": [
    "# Reshape input to be [samples, time steps, features] to feed into LSTM\n",
    "inputs = numpy.reshape(inputs, (inputs.shape[0], inputs.shape[1], 1))"
   ]
  },
  {
   "cell_type": "markdown",
   "metadata": {},
   "source": [
    "## Make predictions"
   ]
  },
  {
   "cell_type": "code",
   "execution_count": 19,
   "metadata": {},
   "outputs": [],
   "source": [
    "# make predictions\n",
    "predictions = model.predict(inputs, batch_size=batch_size)\n",
    "\n",
    "# invert the normalization done on predictions and targets sets to properly calculate error\n",
    "predictions = scaler.inverse_transform(predictions)\n",
    "targets = scaler.inverse_transform([targets])"
   ]
  },
  {
   "cell_type": "markdown",
   "metadata": {},
   "source": [
    "## Error testing"
   ]
  },
  {
   "cell_type": "code",
   "execution_count": 20,
   "metadata": {},
   "outputs": [],
   "source": [
    "from sklearn.metrics import mean_absolute_error"
   ]
  },
  {
   "cell_type": "code",
   "execution_count": 21,
   "metadata": {},
   "outputs": [
    {
     "name": "stdout",
     "output_type": "stream",
     "text": [
      "Mean Squared Error: 80832.91 MSE\n",
      "Root Mean Squared Error: 284.31 RMSE\n",
      "Mean Absolute Error: 241.22 MAE\n",
      "Mean Absolute Percentage Error: 16.65 % MAPE\n"
     ]
    }
   ],
   "source": [
    "# calculate mean squared error\n",
    "mse = mean_squared_error(targets[0], predictions[:,0])\n",
    "print('Mean Squared Error: %.2f MSE' % (mse))\n",
    "\n",
    "# calculate root mean squared error\n",
    "rmse = math.sqrt(mse)\n",
    "print('Root Mean Squared Error: %.2f RMSE' % (rmse))\n",
    "\n",
    "# calculate mean absolute error\n",
    "mae = mean_absolute_error(targets[0], predictions[:,0])\n",
    "print('Mean Absolute Error: %.2f MAE' % (mae))\n",
    "\n",
    "# calculate mean absolute percentage error\n",
    "mape = numpy.mean(numpy.abs((targets[0] - predictions[:,0]) / targets[0])) * 100\n",
    "print('Mean Absolute Percentage Error: %.2f %% MAPE' % (mape))"
   ]
  },
  {
   "cell_type": "markdown",
   "metadata": {},
   "source": [
    "## Plotting the forecasted results"
   ]
  },
  {
   "cell_type": "code",
   "execution_count": 22,
   "metadata": {},
   "outputs": [],
   "source": [
    "# invert the scaling transformation on the 2017 dataset\n",
    "dataset_2017 = scaler.inverse_transform(dataset_2017)"
   ]
  },
  {
   "cell_type": "code",
   "execution_count": 23,
   "metadata": {},
   "outputs": [],
   "source": [
    "# read in entire dataset with datapoints including 2017\n",
    "totaldf = pandas.read_csv('toyota_sales_total.csv', usecols=[1],engine='python')\n",
    "totalData = totaldf.values\n",
    "# floats are more suitable for neural networks than ints\n",
    "totalData = totalData.astype('float32')"
   ]
  },
  {
   "cell_type": "markdown",
   "metadata": {},
   "source": [
    "## Actual Sales (blue line) vs Predicted Sales"
   ]
  },
  {
   "cell_type": "code",
   "execution_count": 24,
   "metadata": {},
   "outputs": [
    {
     "data": {
      "image/png": "[encoded data removed]",
      "text/plain": [
       "<Figure size 432x288 with 1 Axes>"
      ]
     },
     "metadata": {
      "needs_background": "light"
     },
     "output_type": "display_data"
    }
   ],
   "source": [
    "# shift predictions for plotting\n",
    "predictionsPlot = numpy.empty_like(totalData)\n",
    "predictionsPlot[:, :] = numpy.nan\n",
    "predictionsPlot[len(dataset):len(totalData), :] = predictions\n",
    "plt.plot(totalData)\n",
    "plt.plot(trainPredictPlot)\n",
    "plt.plot(testPredictPlot)\n",
    "plt.plot(predictionsPlot)\n",
    "plt.show()\n"
   ]
  },
  {
   "cell_type": "markdown",
   "metadata": {},
   "source": [
    "## 2017 Sales vs Predicted Sales"
   ]
  },
  {
   "cell_type": "code",
   "execution_count": 25,
   "metadata": {},
   "outputs": [
    {
     "data": {
      "image/png": "[encoded data removed]",
      "text/plain": [
       "<Figure size 432x288 with 1 Axes>"
      ]
     },
     "metadata": {
      "needs_background": "light"
     },
     "output_type": "display_data"
    }
   ],
   "source": [
    "dataset_2017plot = numpy.empty_like(targets[0])\n",
    "dataset_2017plot[:] = numpy.nan\n",
    "dataset_2017plot[:] = predictions[:,0]\n",
    "plt.plot(targets[0])\n",
    "plt.plot(dataset_2017plot)\n",
    "plt.show()"
   ]
  },
  {
   "cell_type": "code",
   "execution_count": 26,
   "metadata": {},
   "outputs": [
    {
     "name": "stdout",
     "output_type": "stream",
     "text": [
      "[1188.9723 1268.2384 1317.6387 1297.8934 1213.4333 1142.501  1120.3951\n",
      " 1177.9677 1288.8894 1369.6537 1387.5077 1385.3544]\n"
     ]
    }
   ],
   "source": [
    "print(predictions[:,0])"
   ]
  }
 ],
 "metadata": {
  "kernelspec": {
   "display_name": "norwayCarSales",
   "language": "python",
   "name": "norwaycarsales"
  },
  "language_info": {
   "codemirror_mode": {
    "name": "ipython",
    "version": 3
   },
   "file_extension": ".py",
   "mimetype": "text/x-python",
   "name": "python",
   "nbconvert_exporter": "python",
   "pygments_lexer": "ipython3",
   "version": "3.6.4"
  },
  "pycharm": {
   "stem_cell": {
    "cell_type": "raw",
    "metadata": {
     "collapsed": false
    },
    "source": []
   }
  }
 },
 "nbformat": 4,
 "nbformat_minor": 1
}
